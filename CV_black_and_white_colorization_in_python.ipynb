{
 "cells": [
  {
   "cell_type": "markdown",
   "id": "266d4e22",
   "metadata": {},
   "source": [
    "## Computer Vision Projects : gray scale image colorization \n",
    "#### Melika Heydari Rad "
   ]
  },
  {
   "cell_type": "markdown",
   "id": "2bcff145",
   "metadata": {},
   "source": [
    "___"
   ]
  },
  {
   "cell_type": "code",
   "execution_count": 1,
   "id": "80cb045d",
   "metadata": {},
   "outputs": [],
   "source": [
    "import numpy as np\n",
    "import cv2"
   ]
  },
  {
   "cell_type": "code",
   "execution_count": 4,
   "id": "5e427923",
   "metadata": {},
   "outputs": [
    {
     "name": "stdout",
     "output_type": "stream",
     "text": [
      "1.23.4\n",
      "4.8.0\n"
     ]
    }
   ],
   "source": [
    "print(np.__version__)\n",
    "print(cv2.__version__)"
   ]
  },
  {
   "cell_type": "markdown",
   "id": "f3c3869c",
   "metadata": {},
   "source": [
    "___"
   ]
  },
  {
   "cell_type": "markdown",
   "id": "db8bdba4",
   "metadata": {},
   "source": [
    "Download the model files:     \n",
    "1. colorization_deploy_v2.prototxt:    https://github.com/richzhang/colorization/tree/caffe/colorization/models  \n",
    "2. pts_in_hull.npy:\t\t\t\t\t   https://github.com/richzhang/colorization/blob/caffe/colorization/resources/pts_in_hull.npy  \n",
    "3. colorization_release_v2.caffemodel: https://www.dropbox.com/s/dx0qvhhp5hbcx7z/colorization_release_v2.caffemodel?dl=1  \n"
   ]
  },
  {
   "cell_type": "markdown",
   "id": "abeaafc6",
   "metadata": {},
   "source": [
    "___"
   ]
  },
  {
   "cell_type": "code",
   "execution_count": null,
   "id": "054286c9",
   "metadata": {},
   "outputs": [],
   "source": []
  }
 ],
 "metadata": {
  "kernelspec": {
   "display_name": "Python 3 (ipykernel)",
   "language": "python",
   "name": "python3"
  },
  "language_info": {
   "codemirror_mode": {
    "name": "ipython",
    "version": 3
   },
   "file_extension": ".py",
   "mimetype": "text/x-python",
   "name": "python",
   "nbconvert_exporter": "python",
   "pygments_lexer": "ipython3",
   "version": "3.10.8"
  }
 },
 "nbformat": 4,
 "nbformat_minor": 5
}
